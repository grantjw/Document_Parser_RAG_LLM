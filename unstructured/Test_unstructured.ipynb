{
 "cells": [
  {
   "cell_type": "code",
   "execution_count": 1,
   "id": "ed90c053-64df-470e-98be-b4b058b64093",
   "metadata": {},
   "outputs": [],
   "source": [
    "from CakePDFEmbedder import VectorDBLoader\n",
    "from CakePDFEmbedder import VectorDBRetriever\n",
    "from CakePDFEmbedder import ProcessPDF\n",
    "from llama_index.vector_stores.milvus import MilvusVectorStore\n",
    "from llama_index.core.query_engine import RetrieverQueryEngine\n",
    "from llama_index.embeddings.huggingface import HuggingFaceEmbedding\n",
    "from langchain_openai import AzureChatOpenAI"
   ]
  },
  {
   "cell_type": "code",
   "execution_count": 3,
   "id": "067ef366-296a-4645-9326-669ecb27b0e1",
   "metadata": {},
   "outputs": [],
   "source": [
    "import os\n",
    "import subprocess\n",
    "import base64\n",
    "!export AZURE_API_VERSION=\"`kubectl get secret azure-creds -n kubeflow-brad -o jsonpath='{.data.AZURE_API_VERSION}' | base64 --decode`\"\n",
    "!export AZURE_OPENAI_API_KEY=\"`kubectl get secret azure-creds -n kubeflow-brad -o jsonpath='{.data.AZURE_OPENAI_API_KEY}' | base64 --decode`\"\n",
    "!export AZURE_OPENAI_ENDPOINT=\"`kubectl get secret azure-creds -n kubeflow-brad -o jsonpath='{.data.AZURE_OPENAI_ENDPOINT}' | base64 --decode`\"\n",
    "def kubectl_get_secret(secret_name, key):\n",
    "    # Executing kubectl command to get the secret and extracting the value of the specified key\n",
    "    command = f\"kubectl get secret {secret_name} -n kubeflow-brad -o jsonpath={{.data.{key}}}\"\n",
    "    result = subprocess.run(command, shell=True, capture_output=True, text=True)\n",
    "\n",
    "    # Checking if the command was successful\n",
    "    if result.returncode == 0:\n",
    "        # Decoding the base64-encoded value and return\n",
    "        decoded_value = base64.b64decode(result.stdout.strip()).decode('utf-8')\n",
    "        return decoded_value\n",
    "\n",
    "# Fetching values from Kubernetes secret and decode\n",
    "AZURE_API_VERSION = kubectl_get_secret(\"azure-creds\", \"AZURE_API_VERSION\")\n",
    "AZURE_OPENAI_API_KEY = kubectl_get_secret(\"azure-creds\", \"AZURE_OPENAI_API_KEY\")\n",
    "AZURE_OPENAI_ENDPOINT = kubectl_get_secret(\"azure-creds\", \"AZURE_OPENAI_ENDPOINT\")\n",
    "\n",
    "# Setting the environment variables\n",
    "os.environ[\"AZURE_API_VERSION\"] = AZURE_API_VERSION\n",
    "os.environ[\"AZURE_OPENAI_API_KEY\"] = AZURE_OPENAI_API_KEY\n",
    "os.environ[\"AZURE_OPENAI_ENDPOINT\"] = AZURE_OPENAI_ENDPOINT"
   ]
  },
  {
   "cell_type": "code",
   "execution_count": 4,
   "id": "63014b7e-9f43-44c8-bfac-182ee0960024",
   "metadata": {},
   "outputs": [],
   "source": [
    "llm = AzureChatOpenAI(\n",
    "    openai_api_version=os.getenv(\"AZURE_API_VERSION\"),\n",
    "    azure_deployment=\"gpt-4o\",\n",
    "    temperature=0\n",
    ")"
   ]
  },
  {
   "cell_type": "code",
   "execution_count": 7,
   "id": "56d60a7f-bfcf-453d-a63d-47dfafce0b55",
   "metadata": {},
   "outputs": [],
   "source": [
    "vector_store = MilvusVectorStore(uri=\"http://stepstone-milvus.milvus.svc.cluster.local:19530\", dim=1024, overwrite=False, collection_name='rene_319_load_v2')"
   ]
  },
  {
   "cell_type": "code",
   "execution_count": 6,
   "id": "b27363b6-ad16-4e29-a2d4-745768b69cd0",
   "metadata": {},
   "outputs": [
    {
     "name": "stderr",
     "output_type": "stream",
     "text": [
      "/opt/conda/lib/python3.11/site-packages/huggingface_hub/file_download.py:1132: FutureWarning: `resume_download` is deprecated and will be removed in version 1.0.0. Downloads always resume when possible. If you want to force a new download, use `force_download=True`.\n",
      "  warnings.warn(\n"
     ]
    }
   ],
   "source": [
    "embedding_model = HuggingFaceEmbedding(\n",
    "    model_name=\"BAAI/bge-m3\",\n",
    "    max_length=4096\n",
    ")"
   ]
  },
  {
   "cell_type": "code",
   "execution_count": null,
   "id": "e918ac3d-1137-4a30-a0f5-20da515895ae",
   "metadata": {},
   "outputs": [],
   "source": [
    "myProcessor = ProcessPDF(llm)"
   ]
  },
  {
   "cell_type": "code",
   "execution_count": null,
   "id": "9dfdb747-95d2-419a-8f8e-44c2c8d669b1",
   "metadata": {},
   "outputs": [],
   "source": [
    "myBlock_dicts = myProcessor.partition_file_via_open_source('./rene_test/'+\"2023.12.31.PortSum.Vista V. 2.pdf\")"
   ]
  },
  {
   "cell_type": "code",
   "execution_count": null,
   "id": "2fb96f5b-d218-4a9f-b0fe-68fc201e8cd7",
   "metadata": {},
   "outputs": [],
   "source": [
    "myAugmentedDF = myProcessor.create_dataframe(myBlock_dicts)"
   ]
  },
  {
   "cell_type": "code",
   "execution_count": null,
   "id": "3e4b94c9-694c-44c3-91bb-c81a121b3496",
   "metadata": {},
   "outputs": [],
   "source": [
    "blocks_of_text = myProcessor.create_block_text(myAugmentedDF)"
   ]
  },
  {
   "cell_type": "code",
   "execution_count": null,
   "id": "f8afd3e8-3e51-4f01-854f-7d4fd5e20721",
   "metadata": {},
   "outputs": [],
   "source": [
    "myLoader = VectorDBLoader(vector_store, embedding_model)"
   ]
  },
  {
   "cell_type": "code",
   "execution_count": null,
   "id": "66bbf0f6-ef4a-4e51-a506-41605b3ef879",
   "metadata": {},
   "outputs": [],
   "source": [
    "myLoader.addToVectorDB(blocks_of_text)"
   ]
  },
  {
   "cell_type": "code",
   "execution_count": null,
   "id": "07b93ab2-bd2a-4df7-8ef9-788db552ba50",
   "metadata": {},
   "outputs": [],
   "source": []
  },
  {
   "cell_type": "code",
   "execution_count": 40,
   "id": "a20bef3b-1361-408a-8c94-fd3d2d695418",
   "metadata": {},
   "outputs": [],
   "source": [
    "import pandas as pd\n",
    "from pymilvus import connections, utility, MilvusClient\n",
    "import pprint\n",
    "import random\n",
    "import re"
   ]
  },
  {
   "cell_type": "code",
   "execution_count": 27,
   "id": "39c47f76-f1ae-4ab6-8525-0335dca71cb6",
   "metadata": {},
   "outputs": [
    {
     "data": {
      "text/html": [
       "<div>\n",
       "<style scoped>\n",
       "    .dataframe tbody tr th:only-of-type {\n",
       "        vertical-align: middle;\n",
       "    }\n",
       "\n",
       "    .dataframe tbody tr th {\n",
       "        vertical-align: top;\n",
       "    }\n",
       "\n",
       "    .dataframe thead th {\n",
       "        text-align: right;\n",
       "    }\n",
       "</style>\n",
       "<table border=\"1\" class=\"dataframe\">\n",
       "  <thead>\n",
       "    <tr style=\"text-align: right;\">\n",
       "      <th></th>\n",
       "      <th>Assignment</th>\n",
       "      <th>File Name</th>\n",
       "      <th>URL</th>\n",
       "      <th>Sector</th>\n",
       "      <th>Fund Name</th>\n",
       "      <th>Asset_Name</th>\n",
       "      <th>entry_date</th>\n",
       "      <th>Unrealized Val</th>\n",
       "      <th>Revenue (LTM), Unit as is in the report</th>\n",
       "      <th>Unit</th>\n",
       "      <th>Date (as is in the report)</th>\n",
       "      <th>EBITDA (LTM)</th>\n",
       "      <th>Unit.1</th>\n",
       "      <th>Date</th>\n",
       "      <th>Net Debt</th>\n",
       "      <th>Unit.2</th>\n",
       "      <th>Date.1</th>\n",
       "      <th>Note</th>\n",
       "      <th>Unnamed: 18</th>\n",
       "    </tr>\n",
       "  </thead>\n",
       "  <tbody>\n",
       "    <tr>\n",
       "      <th>0</th>\n",
       "      <td>Example</td>\n",
       "      <td>2024.03.31.Ltr.American VI..pdf</td>\n",
       "      <td>Z:\\01 - Research\\Portfolio Management\\Generati...</td>\n",
       "      <td>Large Buyout</td>\n",
       "      <td>American Securities Partners VI, L.P.</td>\n",
       "      <td>Learning Care Group (US), Inc.</td>\n",
       "      <td>5/15/2014</td>\n",
       "      <td>1,368,300,000</td>\n",
       "      <td>$1,566.80</td>\n",
       "      <td>Million</td>\n",
       "      <td>3/31/2024</td>\n",
       "      <td>$192.30</td>\n",
       "      <td>Million</td>\n",
       "      <td>3/31/2024</td>\n",
       "      <td>$838.40</td>\n",
       "      <td>Million</td>\n",
       "      <td>3/31/2024</td>\n",
       "      <td>NaN</td>\n",
       "      <td>NaN</td>\n",
       "    </tr>\n",
       "    <tr>\n",
       "      <th>1</th>\n",
       "      <td>AJ</td>\n",
       "      <td>2024.03.31.Ltr.American VI..pdf</td>\n",
       "      <td>Z:\\01 - Research\\Portfolio Management\\Generati...</td>\n",
       "      <td>Large Buyout</td>\n",
       "      <td>American Securities Partners VI, L.P.</td>\n",
       "      <td>Learning Care Group (US), Inc.</td>\n",
       "      <td>5/15/2014</td>\n",
       "      <td>1,368,300,000</td>\n",
       "      <td>$1,566.80</td>\n",
       "      <td>Million</td>\n",
       "      <td>3/31/2024</td>\n",
       "      <td>$192.30</td>\n",
       "      <td>Million</td>\n",
       "      <td>3/31/2024</td>\n",
       "      <td>$838.40</td>\n",
       "      <td>Million</td>\n",
       "      <td>3/31/2024</td>\n",
       "      <td>NaN</td>\n",
       "      <td>NaN</td>\n",
       "    </tr>\n",
       "    <tr>\n",
       "      <th>2</th>\n",
       "      <td>AJ</td>\n",
       "      <td>2024.03.31.Ltr.Bain X..pdf</td>\n",
       "      <td>Z:\\01 - Research\\Portfolio Management\\Generati...</td>\n",
       "      <td>Global Buyout</td>\n",
       "      <td>Bain Capital Fund X, L.P.</td>\n",
       "      <td>Bob's Discount Furniture, Inc.</td>\n",
       "      <td>2/14/2014</td>\n",
       "      <td>792,189,000</td>\n",
       "      <td>NaN</td>\n",
       "      <td>NaN</td>\n",
       "      <td>NaN</td>\n",
       "      <td>NaN</td>\n",
       "      <td>NaN</td>\n",
       "      <td>NaN</td>\n",
       "      <td>NaN</td>\n",
       "      <td>NaN</td>\n",
       "      <td>NaN</td>\n",
       "      <td>NaN</td>\n",
       "      <td>NaN</td>\n",
       "    </tr>\n",
       "  </tbody>\n",
       "</table>\n",
       "</div>"
      ],
      "text/plain": [
       "  Assignment                        File Name  \\\n",
       "0    Example  2024.03.31.Ltr.American VI..pdf   \n",
       "1         AJ  2024.03.31.Ltr.American VI..pdf   \n",
       "2         AJ       2024.03.31.Ltr.Bain X..pdf   \n",
       "\n",
       "                                                 URL         Sector  \\\n",
       "0  Z:\\01 - Research\\Portfolio Management\\Generati...   Large Buyout   \n",
       "1  Z:\\01 - Research\\Portfolio Management\\Generati...   Large Buyout   \n",
       "2  Z:\\01 - Research\\Portfolio Management\\Generati...  Global Buyout   \n",
       "\n",
       "                               Fund Name                      Asset_Name  \\\n",
       "0  American Securities Partners VI, L.P.  Learning Care Group (US), Inc.   \n",
       "1  American Securities Partners VI, L.P.  Learning Care Group (US), Inc.   \n",
       "2              Bain Capital Fund X, L.P.  Bob's Discount Furniture, Inc.   \n",
       "\n",
       "  entry_date Unrealized Val Revenue (LTM), Unit as is in the report     Unit  \\\n",
       "0  5/15/2014  1,368,300,000                              $1,566.80   Million   \n",
       "1  5/15/2014  1,368,300,000                              $1,566.80   Million   \n",
       "2  2/14/2014    792,189,000                                     NaN      NaN   \n",
       "\n",
       "  Date (as is in the report) EBITDA (LTM)   Unit.1       Date  Net Debt  \\\n",
       "0                  3/31/2024     $192.30   Million  3/31/2024  $838.40    \n",
       "1                  3/31/2024     $192.30   Million  3/31/2024  $838.40    \n",
       "2                        NaN          NaN      NaN        NaN       NaN   \n",
       "\n",
       "    Unit.2     Date.1 Note Unnamed: 18  \n",
       "0  Million  3/31/2024  NaN         NaN  \n",
       "1  Million  3/31/2024  NaN         NaN  \n",
       "2      NaN        NaN  NaN         NaN  "
      ]
     },
     "execution_count": 27,
     "metadata": {},
     "output_type": "execute_result"
    }
   ],
   "source": [
    "analysts_df = pd.read_csv(\"./2024_Q1_PDF/Analysts Results/Quarterly Report data extraction.csv\", encoding = \"ISO-8859-1\")\n",
    "analysts_df.head(3)"
   ]
  },
  {
   "cell_type": "code",
   "execution_count": 37,
   "id": "611dfc92-61cc-4af0-b48b-5d1eee02d6f0",
   "metadata": {},
   "outputs": [
    {
     "name": "stderr",
     "output_type": "stream",
     "text": [
      "/tmp/ipykernel_71549/2738223046.py:3: SettingWithCopyWarning: \n",
      "A value is trying to be set on a copy of a slice from a DataFrame.\n",
      "Try using .loc[row_indexer,col_indexer] = value instead\n",
      "\n",
      "See the caveats in the documentation: https://pandas.pydata.org/pandas-docs/stable/user_guide/indexing.html#returning-a-view-versus-a-copy\n",
      "  abbr_analysts_df['Revenue (LTM)']=abbr_analysts_df['Revenue (LTM), Unit as is in the report']\n",
      "/tmp/ipykernel_71549/2738223046.py:4: SettingWithCopyWarning: \n",
      "A value is trying to be set on a copy of a slice from a DataFrame\n",
      "\n",
      "See the caveats in the documentation: https://pandas.pydata.org/pandas-docs/stable/user_guide/indexing.html#returning-a-view-versus-a-copy\n",
      "  abbr_analysts_df.drop(columns=['Revenue (LTM), Unit as is in the report'], inplace=True)\n"
     ]
    },
    {
     "data": {
      "text/html": [
       "<div>\n",
       "<style scoped>\n",
       "    .dataframe tbody tr th:only-of-type {\n",
       "        vertical-align: middle;\n",
       "    }\n",
       "\n",
       "    .dataframe tbody tr th {\n",
       "        vertical-align: top;\n",
       "    }\n",
       "\n",
       "    .dataframe thead th {\n",
       "        text-align: right;\n",
       "    }\n",
       "</style>\n",
       "<table border=\"1\" class=\"dataframe\">\n",
       "  <thead>\n",
       "    <tr style=\"text-align: right;\">\n",
       "      <th></th>\n",
       "      <th>File Name</th>\n",
       "      <th>Fund Name</th>\n",
       "      <th>Asset_Name</th>\n",
       "      <th>EBITDA (LTM)</th>\n",
       "      <th>Net Debt</th>\n",
       "      <th>Revenue (LTM)</th>\n",
       "    </tr>\n",
       "  </thead>\n",
       "  <tbody>\n",
       "    <tr>\n",
       "      <th>0</th>\n",
       "      <td>2024.03.31.Ltr.American VI..pdf</td>\n",
       "      <td>American Securities Partners VI, L.P.</td>\n",
       "      <td>Learning Care Group (US), Inc.</td>\n",
       "      <td>$192.30</td>\n",
       "      <td>$838.40</td>\n",
       "      <td>$1,566.80</td>\n",
       "    </tr>\n",
       "    <tr>\n",
       "      <th>1</th>\n",
       "      <td>2024.03.31.Ltr.American VI..pdf</td>\n",
       "      <td>American Securities Partners VI, L.P.</td>\n",
       "      <td>Learning Care Group (US), Inc.</td>\n",
       "      <td>$192.30</td>\n",
       "      <td>$838.40</td>\n",
       "      <td>$1,566.80</td>\n",
       "    </tr>\n",
       "    <tr>\n",
       "      <th>2</th>\n",
       "      <td>2024.03.31.Ltr.Bain X..pdf</td>\n",
       "      <td>Bain Capital Fund X, L.P.</td>\n",
       "      <td>Bob's Discount Furniture, Inc.</td>\n",
       "      <td>NaN</td>\n",
       "      <td>NaN</td>\n",
       "      <td>NaN</td>\n",
       "    </tr>\n",
       "  </tbody>\n",
       "</table>\n",
       "</div>"
      ],
      "text/plain": [
       "                         File Name                              Fund Name  \\\n",
       "0  2024.03.31.Ltr.American VI..pdf  American Securities Partners VI, L.P.   \n",
       "1  2024.03.31.Ltr.American VI..pdf  American Securities Partners VI, L.P.   \n",
       "2       2024.03.31.Ltr.Bain X..pdf              Bain Capital Fund X, L.P.   \n",
       "\n",
       "                       Asset_Name EBITDA (LTM)  Net Debt Revenue (LTM)  \n",
       "0  Learning Care Group (US), Inc.     $192.30   $838.40     $1,566.80   \n",
       "1  Learning Care Group (US), Inc.     $192.30   $838.40     $1,566.80   \n",
       "2  Bob's Discount Furniture, Inc.          NaN       NaN           NaN  "
      ]
     },
     "execution_count": 37,
     "metadata": {},
     "output_type": "execute_result"
    }
   ],
   "source": [
    "abbr_l = ['File Name', 'Fund Name', 'Asset_Name', 'Revenue (LTM), Unit as is in the report', 'EBITDA (LTM)', 'Net Debt']\n",
    "abbr_analysts_df = analysts_df[abbr_l]\n",
    "abbr_analysts_df['Revenue (LTM)']=abbr_analysts_df['Revenue (LTM), Unit as is in the report']\n",
    "abbr_analysts_df.drop(columns=['Revenue (LTM), Unit as is in the report'], inplace=True)\n",
    "abbr_analysts_df.head(3)"
   ]
  },
  {
   "cell_type": "code",
   "execution_count": 16,
   "id": "bc15438d-2330-4309-8a37-caf5a3db7f20",
   "metadata": {},
   "outputs": [],
   "source": [
    "uri=\"http://stepstone-milvus.milvus.svc.cluster.local:19530\"\n",
    "dim=1024\n",
    "collection_name='rene_319_load_v2'"
   ]
  },
  {
   "cell_type": "code",
   "execution_count": 17,
   "id": "e4172736-1852-4eae-a4f1-ce37a83d95bb",
   "metadata": {},
   "outputs": [],
   "source": [
    "# Use no-schema Milvus client.\n",
    "mc = MilvusClient(uri=uri)"
   ]
  },
  {
   "cell_type": "code",
   "execution_count": 19,
   "id": "66ce1025-e1d3-4a4a-8732-a84f2c1a8617",
   "metadata": {},
   "outputs": [],
   "source": [
    "# pprint.pprint(mc.describe_collection(collection_name))"
   ]
  },
  {
   "cell_type": "code",
   "execution_count": null,
   "id": "a56cfde1-6ef9-4c87-95ad-2a29699a352d",
   "metadata": {},
   "outputs": [],
   "source": [
    "ofile=\"2024.03.31.Ltr.American VI..pdf\"\n",
    "doc=ofile.lower().replace(\"..\",\".\")\n",
    "results = mc.search(\n",
    "    collection_name,\n",
    "    data=query_vectors,\n",
    "    # filter='$meta[\"GPID\"] in [4411]')\n",
    "    filter=f'$meta[\"Document Name\"] in [\"{doc}\"]',\n",
    "    limit=50\n",
    "    )"
   ]
  },
  {
   "cell_type": "code",
   "execution_count": 44,
   "id": "aa9e8c4d-08ec-4e2d-96ee-bb3be7c5b942",
   "metadata": {},
   "outputs": [
    {
     "name": "stdout",
     "output_type": "stream",
     "text": [
      "CPU times: user 19.8 s, sys: 318 ms, total: 20.1 s\n",
      "Wall time: 9min 35s\n"
     ]
    },
    {
     "name": "stderr",
     "output_type": "stream",
     "text": [
      "<timed exec>:1: SettingWithCopyWarning: \n",
      "A value is trying to be set on a copy of a slice from a DataFrame.\n",
      "Try using .loc[row_indexer,col_indexer] = value instead\n",
      "\n",
      "See the caveats in the documentation: https://pandas.pydata.org/pandas-docs/stable/user_guide/indexing.html#returning-a-view-versus-a-copy\n"
     ]
    }
   ],
   "source": [
    "%%time\n",
    "abbr_analysts_df['Model - Revenue (LTM)'] = abbr_analysts_df['Asset_Name'].apply(lambda x: str(query_engine.query(f\"What is {x} most recent Net Revenue (LTM)?\")))"
   ]
  },
  {
   "cell_type": "code",
   "execution_count": 86,
   "id": "8de68074-734f-400b-9e10-cf71a59bf66b",
   "metadata": {},
   "outputs": [
    {
     "name": "stderr",
     "output_type": "stream",
     "text": [
      "/tmp/ipykernel_71549/1900154242.py:1: SettingWithCopyWarning: \n",
      "A value is trying to be set on a copy of a slice from a DataFrame.\n",
      "Try using .loc[row_indexer,col_indexer] = value instead\n",
      "\n",
      "See the caveats in the documentation: https://pandas.pydata.org/pandas-docs/stable/user_guide/indexing.html#returning-a-view-versus-a-copy\n",
      "  abbr_analysts_df['Model - Revenue (LTM) - cleaned'] = abbr_analysts_df['Model - Revenue (LTM)'].apply(lambda x: reg_cleaner(x))\n"
     ]
    }
   ],
   "source": [
    "abbr_analysts_df['Model - Revenue (LTM) - cleaned'] = abbr_analysts_df['Model - Revenue (LTM)'].apply(lambda x: reg_cleaner(x))"
   ]
  },
  {
   "cell_type": "code",
   "execution_count": 92,
   "id": "18d23e49-1aae-4637-8f42-c7f83045875d",
   "metadata": {},
   "outputs": [
    {
     "data": {
      "text/html": [
       "<div>\n",
       "<style scoped>\n",
       "    .dataframe tbody tr th:only-of-type {\n",
       "        vertical-align: middle;\n",
       "    }\n",
       "\n",
       "    .dataframe tbody tr th {\n",
       "        vertical-align: top;\n",
       "    }\n",
       "\n",
       "    .dataframe thead th {\n",
       "        text-align: right;\n",
       "    }\n",
       "</style>\n",
       "<table border=\"1\" class=\"dataframe\">\n",
       "  <thead>\n",
       "    <tr style=\"text-align: right;\">\n",
       "      <th></th>\n",
       "      <th>File Name</th>\n",
       "      <th>Asset_Name</th>\n",
       "      <th>Net Debt</th>\n",
       "      <th>Model - Net Debt - cleaned</th>\n",
       "    </tr>\n",
       "  </thead>\n",
       "  <tbody>\n",
       "    <tr>\n",
       "      <th>0</th>\n",
       "      <td>2024.03.31.Ltr.American VI..pdf</td>\n",
       "      <td>Learning Care Group (US), Inc.</td>\n",
       "      <td>$838.40</td>\n",
       "      <td>$736.3</td>\n",
       "    </tr>\n",
       "    <tr>\n",
       "      <th>1</th>\n",
       "      <td>2024.03.31.Ltr.American VI..pdf</td>\n",
       "      <td>Learning Care Group (US), Inc.</td>\n",
       "      <td>$838.40</td>\n",
       "      <td>$736.3</td>\n",
       "    </tr>\n",
       "    <tr>\n",
       "      <th>2</th>\n",
       "      <td>2024.03.31.Ltr.Bain X..pdf</td>\n",
       "      <td>Bob's Discount Furniture, Inc.</td>\n",
       "      <td>NaN</td>\n",
       "      <td>$0.7</td>\n",
       "    </tr>\n",
       "    <tr>\n",
       "      <th>3</th>\n",
       "      <td>2024.03.31.Ltr.Bain X..pdf</td>\n",
       "      <td>Canada Goose</td>\n",
       "      <td>NaN</td>\n",
       "      <td></td>\n",
       "    </tr>\n",
       "    <tr>\n",
       "      <th>4</th>\n",
       "      <td>2024.03.31.Rpt.Fortress V..pdf</td>\n",
       "      <td>CW Financial Services</td>\n",
       "      <td>$147,960.00</td>\n",
       "      <td>$147960</td>\n",
       "    </tr>\n",
       "    <tr>\n",
       "      <th>...</th>\n",
       "      <td>...</td>\n",
       "      <td>...</td>\n",
       "      <td>...</td>\n",
       "      <td>...</td>\n",
       "    </tr>\n",
       "    <tr>\n",
       "      <th>503</th>\n",
       "      <td>2024.03.31.Ltr.WestView III..pdf</td>\n",
       "      <td>Jopari Solutions</td>\n",
       "      <td>NaN</td>\n",
       "      <td>2685.2</td>\n",
       "    </tr>\n",
       "    <tr>\n",
       "      <th>504</th>\n",
       "      <td>2024.03.31.Rpt.Align III..pdf</td>\n",
       "      <td>Counsel Press Inc.</td>\n",
       "      <td>NaN</td>\n",
       "      <td>$53.0</td>\n",
       "    </tr>\n",
       "    <tr>\n",
       "      <th>505</th>\n",
       "      <td>2024.03.31.Rpt.Align III..pdf</td>\n",
       "      <td>Global Guardian LLC</td>\n",
       "      <td>NaN</td>\n",
       "      <td>0.9</td>\n",
       "    </tr>\n",
       "    <tr>\n",
       "      <th>506</th>\n",
       "      <td>2024.03.31.Rpt.Rubicon Tech III..pdf</td>\n",
       "      <td>BrandMaker</td>\n",
       "      <td>NaN</td>\n",
       "      <td>$3066</td>\n",
       "    </tr>\n",
       "    <tr>\n",
       "      <th>507</th>\n",
       "      <td>2024.03.31.Rpt.Rubicon Tech III..pdf</td>\n",
       "      <td>ABOUT Healthcare, Inc.</td>\n",
       "      <td>NaN</td>\n",
       "      <td>$356.2</td>\n",
       "    </tr>\n",
       "  </tbody>\n",
       "</table>\n",
       "<p>508 rows × 4 columns</p>\n",
       "</div>"
      ],
      "text/plain": [
       "                                File Name                      Asset_Name  \\\n",
       "0         2024.03.31.Ltr.American VI..pdf  Learning Care Group (US), Inc.   \n",
       "1         2024.03.31.Ltr.American VI..pdf  Learning Care Group (US), Inc.   \n",
       "2              2024.03.31.Ltr.Bain X..pdf  Bob's Discount Furniture, Inc.   \n",
       "3              2024.03.31.Ltr.Bain X..pdf                    Canada Goose   \n",
       "4          2024.03.31.Rpt.Fortress V..pdf           CW Financial Services   \n",
       "..                                    ...                             ...   \n",
       "503      2024.03.31.Ltr.WestView III..pdf                Jopari Solutions   \n",
       "504         2024.03.31.Rpt.Align III..pdf              Counsel Press Inc.   \n",
       "505         2024.03.31.Rpt.Align III..pdf             Global Guardian LLC   \n",
       "506  2024.03.31.Rpt.Rubicon Tech III..pdf                      BrandMaker   \n",
       "507  2024.03.31.Rpt.Rubicon Tech III..pdf          ABOUT Healthcare, Inc.   \n",
       "\n",
       "         Net Debt Model - Net Debt - cleaned  \n",
       "0        $838.40                      $736.3  \n",
       "1        $838.40                      $736.3  \n",
       "2             NaN                       $0.7  \n",
       "3             NaN                             \n",
       "4    $147,960.00                     $147960  \n",
       "..            ...                        ...  \n",
       "503           NaN                     2685.2  \n",
       "504           NaN                      $53.0  \n",
       "505           NaN                        0.9  \n",
       "506           NaN                      $3066  \n",
       "507           NaN                     $356.2  \n",
       "\n",
       "[508 rows x 4 columns]"
      ]
     },
     "execution_count": 92,
     "metadata": {},
     "output_type": "execute_result"
    }
   ],
   "source": [
    "revenues = ['File Name', 'Asset_Name', 'Revenue (LTM)', 'Model - Revenue (LTM) - cleaned']\n",
    "ebitdas = ['File Name', 'Asset_Name', 'EBITDA (LTM)', 'Model - EBITDA (LTM) - cleaned']\n",
    "netdebts = ['File Name', 'Asset_Name', 'Net Debt', 'Model - Net Debt - cleaned']\n",
    "abbr_analysts_df[netdebts]"
   ]
  },
  {
   "cell_type": "code",
   "execution_count": 93,
   "id": "4209b95f-d5c1-47e6-948d-31e7ecd40ab2",
   "metadata": {},
   "outputs": [],
   "source": [
    "revenue_df = abbr_analysts_df[abbr_analysts_df['Revenue (LTM)'].notna()][revenues]\n",
    "ebitda_df  = abbr_analysts_df[abbr_analysts_df['EBITDA (LTM)'].notna()][ebitdas]\n",
    "netdebt_df = abbr_analysts_df[abbr_analysts_df['Net Debt'].notna()][netdebts]"
   ]
  },
  {
   "cell_type": "code",
   "execution_count": 73,
   "id": "7f524813-693b-4000-aa99-fb2aacd3c058",
   "metadata": {},
   "outputs": [
    {
     "name": "stdout",
     "output_type": "stream",
     "text": [
      "/home/jovyan/shared/projects/sample-notebooks/quarterly_reports_project/Grant Kim\n"
     ]
    },
    {
     "name": "stderr",
     "output_type": "stream",
     "text": [
      "huggingface/tokenizers: The current process just got forked, after parallelism has already been used. Disabling parallelism to avoid deadlocks...\n",
      "To disable this warning, you can either:\n",
      "\t- Avoid using `tokenizers` before the fork if possible\n",
      "\t- Explicitly set the environment variable TOKENIZERS_PARALLELISM=(true | false)\n"
     ]
    }
   ],
   "source": [
    "!pwd"
   ]
  },
  {
   "cell_type": "code",
   "execution_count": 95,
   "id": "8802f47b-4808-474a-b7ef-bcaccef44da7",
   "metadata": {},
   "outputs": [],
   "source": [
    "revenue_df.to_csv(\"./2024_Q1_PDF/Analysts Results/Revenue.csv\", index=False)\n",
    "ebitda_df.to_csv(\"./2024_Q1_PDF/Analysts Results/EBITDA.csv\", index=False)\n",
    "netdebt_df.to_csv(\"./2024_Q1_PDF/Analysts Results/NetDebt.csv\", index=False)\n",
    "abbr_analysts_df.to_csv(\"./2024_Q1_PDF/Analysts Results/FullReport.csv\", index=False)"
   ]
  },
  {
   "cell_type": "code",
   "execution_count": 51,
   "id": "855018a3-c0e7-4a68-bec8-2bad407c4422",
   "metadata": {},
   "outputs": [
    {
     "name": "stdout",
     "output_type": "stream",
     "text": [
      "CPU times: user 19.7 s, sys: 355 ms, total: 20.1 s\n",
      "Wall time: 9min 26s\n"
     ]
    },
    {
     "name": "stderr",
     "output_type": "stream",
     "text": [
      "<timed exec>:1: SettingWithCopyWarning: \n",
      "A value is trying to be set on a copy of a slice from a DataFrame.\n",
      "Try using .loc[row_indexer,col_indexer] = value instead\n",
      "\n",
      "See the caveats in the documentation: https://pandas.pydata.org/pandas-docs/stable/user_guide/indexing.html#returning-a-view-versus-a-copy\n"
     ]
    }
   ],
   "source": [
    "%%time\n",
    "abbr_analysts_df['Model - EBITDA (LTM)'] = abbr_analysts_df['Asset_Name'].apply(lambda x: str(query_engine.query(f\"What is {x} most recent EBITDA (LTM)?\")))"
   ]
  },
  {
   "cell_type": "code",
   "execution_count": 88,
   "id": "b1f90204-a678-419f-940c-fba89d2123c3",
   "metadata": {},
   "outputs": [
    {
     "name": "stderr",
     "output_type": "stream",
     "text": [
      "/tmp/ipykernel_71549/3751406824.py:1: SettingWithCopyWarning: \n",
      "A value is trying to be set on a copy of a slice from a DataFrame.\n",
      "Try using .loc[row_indexer,col_indexer] = value instead\n",
      "\n",
      "See the caveats in the documentation: https://pandas.pydata.org/pandas-docs/stable/user_guide/indexing.html#returning-a-view-versus-a-copy\n",
      "  abbr_analysts_df['Model - EBITDA (LTM) - cleaned'] = abbr_analysts_df['Model - EBITDA (LTM)'].apply(lambda x: reg_cleaner(x))\n"
     ]
    }
   ],
   "source": [
    "abbr_analysts_df['Model - EBITDA (LTM) - cleaned'] = abbr_analysts_df['Model - EBITDA (LTM)'].apply(lambda x: reg_cleaner(x))"
   ]
  },
  {
   "cell_type": "code",
   "execution_count": 65,
   "id": "21e5c266-92e9-4c22-a4f8-b09cf7c39967",
   "metadata": {},
   "outputs": [
    {
     "name": "stdout",
     "output_type": "stream",
     "text": [
      "CPU times: user 18.9 s, sys: 388 ms, total: 19.3 s\n",
      "Wall time: 8min 20s\n"
     ]
    },
    {
     "name": "stderr",
     "output_type": "stream",
     "text": [
      "<timed exec>:1: SettingWithCopyWarning: \n",
      "A value is trying to be set on a copy of a slice from a DataFrame.\n",
      "Try using .loc[row_indexer,col_indexer] = value instead\n",
      "\n",
      "See the caveats in the documentation: https://pandas.pydata.org/pandas-docs/stable/user_guide/indexing.html#returning-a-view-versus-a-copy\n"
     ]
    }
   ],
   "source": [
    "%%time\n",
    "abbr_analysts_df['Model - Net Debt'] = abbr_analysts_df['Asset_Name'].apply(lambda x: str(query_engine.query(f\"What is {x}'s most recent Net Debt?\")))"
   ]
  },
  {
   "cell_type": "code",
   "execution_count": 91,
   "id": "94cac644-ef98-48e3-bfbf-92c1a7d2157a",
   "metadata": {},
   "outputs": [
    {
     "name": "stderr",
     "output_type": "stream",
     "text": [
      "/tmp/ipykernel_71549/969140253.py:1: SettingWithCopyWarning: \n",
      "A value is trying to be set on a copy of a slice from a DataFrame.\n",
      "Try using .loc[row_indexer,col_indexer] = value instead\n",
      "\n",
      "See the caveats in the documentation: https://pandas.pydata.org/pandas-docs/stable/user_guide/indexing.html#returning-a-view-versus-a-copy\n",
      "  abbr_analysts_df['Model - Net Debt - cleaned'] = abbr_analysts_df['Model - Net Debt'].apply(lambda x: reg_cleaner(x))\n"
     ]
    }
   ],
   "source": [
    "abbr_analysts_df['Model - Net Debt - cleaned'] = abbr_analysts_df['Model - Net Debt'].apply(lambda x: reg_cleaner(x))"
   ]
  },
  {
   "cell_type": "code",
   "execution_count": 84,
   "id": "c0f0224b-d559-4b5c-a321-ef395cba9cbd",
   "metadata": {},
   "outputs": [],
   "source": [
    "def reg_cleaner(reg_str):\n",
    "    temp = re.sub(\"[^0-9$.]\", \"\", reg_str)\n",
    "    temp = re.sub(\"[.]$\", \"\", temp)\n",
    "    return re.sub(\"^[.]\", \"\", temp)"
   ]
  },
  {
   "cell_type": "code",
   "execution_count": 83,
   "id": "2066e43d-609b-4f0f-acf7-07a0d374b37e",
   "metadata": {},
   "outputs": [
    {
     "data": {
      "text/plain": [
       "'.$34567.08.'"
      ]
     },
     "execution_count": 83,
     "metadata": {},
     "output_type": "execute_result"
    }
   ],
   "source": [
    "re.sub(\"[^0-9$.]\", \"\", \"Something. $34,567.08.\")"
   ]
  },
  {
   "cell_type": "code",
   "execution_count": 85,
   "id": "4f059d3e-050a-4578-9503-585c1efc254b",
   "metadata": {},
   "outputs": [
    {
     "data": {
      "text/plain": [
       "'$34567.08'"
      ]
     },
     "execution_count": 85,
     "metadata": {},
     "output_type": "execute_result"
    }
   ],
   "source": [
    "reg_cleaner(\"Something. $34,567.08.\")"
   ]
  },
  {
   "cell_type": "code",
   "execution_count": null,
   "id": "0af9dac1-e9aa-4b6b-9f1e-d104c45f133d",
   "metadata": {},
   "outputs": [],
   "source": []
  },
  {
   "cell_type": "code",
   "execution_count": 8,
   "id": "9e0feffa-720c-4572-a763-33c0ab403874",
   "metadata": {},
   "outputs": [],
   "source": [
    "myRetriever = VectorDBRetriever(vector_store, embedding_model, \"default\", 2)"
   ]
  },
  {
   "cell_type": "code",
   "execution_count": 9,
   "id": "0663a02a-df12-4b3d-9b22-d7f08c6ada09",
   "metadata": {},
   "outputs": [],
   "source": [
    "query_engine = RetrieverQueryEngine.from_args(myRetriever)"
   ]
  },
  {
   "cell_type": "code",
   "execution_count": 25,
   "id": "3238dd00-714a-47b1-baa8-c42cdb3ab60a",
   "metadata": {},
   "outputs": [
    {
     "name": "stdout",
     "output_type": "stream",
     "text": [
      "AdSwerve's most recent Net Revenue (LTM) is $78,605.\n"
     ]
    }
   ],
   "source": [
    "query_str = \"What is AdSwerve's most recent Net Revenue (LTM)?\"\n",
    "response = query_engine.query(query_str)\n",
    "print(str(response))"
   ]
  },
  {
   "cell_type": "code",
   "execution_count": null,
   "id": "1c6f7458-a3d5-44be-ab4b-5f80199c0c92",
   "metadata": {},
   "outputs": [],
   "source": []
  }
 ],
 "metadata": {
  "kernelspec": {
   "display_name": "Python 3 (ipykernel)",
   "language": "python",
   "name": "python3"
  },
  "language_info": {
   "codemirror_mode": {
    "name": "ipython",
    "version": 3
   },
   "file_extension": ".py",
   "mimetype": "text/x-python",
   "name": "python",
   "nbconvert_exporter": "python",
   "pygments_lexer": "ipython3",
   "version": "3.11.6"
  }
 },
 "nbformat": 4,
 "nbformat_minor": 5
}
