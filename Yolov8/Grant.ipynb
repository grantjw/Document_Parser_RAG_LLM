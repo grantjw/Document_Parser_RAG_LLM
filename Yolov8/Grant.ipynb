{
 "cells": [
  {
   "cell_type": "code",
   "execution_count": 8,
   "id": "b5bbb9ff-7a4b-4133-b939-be580a2c9df9",
   "metadata": {},
   "outputs": [
    {
     "name": "stdout",
     "output_type": "stream",
     "text": [
      "Requirement already satisfied: PyMuPDF in /opt/conda/lib/python3.11/site-packages (1.24.9)\n",
      "Requirement already satisfied: PyMuPDFb==1.24.9 in /opt/conda/lib/python3.11/site-packages (from PyMuPDF) (1.24.9)\n"
     ]
    }
   ],
   "source": [
    "!pip install PyMuPDF"
   ]
  },
  {
   "cell_type": "code",
   "execution_count": 9,
   "id": "e8e41253-60e2-4ac6-8dbc-33758f926f10",
   "metadata": {},
   "outputs": [],
   "source": [
    "import pymupdf\n",
    "import fitz\n",
    "import pandas as pd"
   ]
  },
  {
   "cell_type": "code",
   "execution_count": 10,
   "id": "af0ab3d9-f67a-4d6b-a5d8-fae7573baf28",
   "metadata": {},
   "outputs": [],
   "source": [
    "# doc = fitz.open('2023.12.31.PortSum.Vista V..pdf')\n",
    "doc = pymupdf.open('2023.12.31.PortSum.Vista V..pdf')\n",
    "page1 = doc[6]\n",
    "words = page1.get_text(\"words\")"
   ]
  },
  {
   "cell_type": "code",
   "execution_count": 11,
   "id": "5ff5b9f6-26ee-43fd-8ad9-a5a973024b93",
   "metadata": {},
   "outputs": [
    {
     "data": {
      "text/plain": [
       "pymupdf.Page"
      ]
     },
     "execution_count": 11,
     "metadata": {},
     "output_type": "execute_result"
    }
   ],
   "source": [
    "type(page1)"
   ]
  },
  {
   "cell_type": "code",
   "execution_count": 12,
   "id": "be0aff48-0168-4557-a884-d066023cdad2",
   "metadata": {},
   "outputs": [
    {
     "data": {
      "text/plain": [
       "(117.36285400390625,\n",
       " 120.15873718261719,\n",
       " 123.63448333740234,\n",
       " 129.14093017578125,\n",
       " 'in',\n",
       " 4,\n",
       " 1,\n",
       " 1)"
      ]
     },
     "execution_count": 12,
     "metadata": {},
     "output_type": "execute_result"
    }
   ],
   "source": [
    "words[10]"
   ]
  },
  {
   "cell_type": "code",
   "execution_count": 13,
   "id": "e3c50569-5f92-4c2f-9fee-b6766f121bc7",
   "metadata": {},
   "outputs": [],
   "source": [
    "tables=[]\n",
    "for table in page1.find_tables().tables:\n",
    "    tables.append(table)"
   ]
  },
  {
   "cell_type": "code",
   "execution_count": 15,
   "id": "8ed5a25f-6aad-41d3-9de6-efb2f0b29171",
   "metadata": {},
   "outputs": [],
   "source": [
    "#tables[2].to_pandas()"
   ]
  },
  {
   "cell_type": "code",
   "execution_count": 16,
   "id": "39d36a43-b401-4afc-a1a9-e44b0c7c3350",
   "metadata": {},
   "outputs": [],
   "source": [
    "# deployment_name = \"gpt-4o\"\n",
    "# openai_api_type = \"azure\"\n",
    "# openai_api_key = \"992ce21baef84c68a10972ffa78c4eeb\"\n",
    "# openai_api_base = \"https://usw1d-openai01.openai.azure.com/\"\n",
    "# openai_api_version = \"2024-02-01\""
   ]
  },
  {
   "cell_type": "code",
   "execution_count": 17,
   "id": "80b43771-9d66-4576-909d-a09d98301287",
   "metadata": {},
   "outputs": [
    {
     "name": "stdout",
     "output_type": "stream",
     "text": [
      "Error from server (Forbidden): secrets \"azure-creds\" is forbidden: User \"system:serviceaccount:kubeflow-grant-kim:default-editor\" cannot get resource \"secrets\" in API group \"\" in the namespace \"kubeflow-brad\"\n",
      "Error from server (Forbidden): secrets \"azure-creds\" is forbidden: User \"system:serviceaccount:kubeflow-grant-kim:default-editor\" cannot get resource \"secrets\" in API group \"\" in the namespace \"kubeflow-brad\"\n",
      "Error from server (Forbidden): secrets \"azure-creds\" is forbidden: User \"system:serviceaccount:kubeflow-grant-kim:default-editor\" cannot get resource \"secrets\" in API group \"\" in the namespace \"kubeflow-brad\"\n"
     ]
    },
    {
     "ename": "TypeError",
     "evalue": "str expected, not NoneType",
     "output_type": "error",
     "traceback": [
      "\u001b[0;31m---------------------------------------------------------------------------\u001b[0m",
      "\u001b[0;31mTypeError\u001b[0m                                 Traceback (most recent call last)",
      "Cell \u001b[0;32mIn[17], line 24\u001b[0m\n\u001b[1;32m     21\u001b[0m AZURE_OPENAI_ENDPOINT \u001b[38;5;241m=\u001b[39m kubectl_get_secret(\u001b[38;5;124m\"\u001b[39m\u001b[38;5;124mazure-creds\u001b[39m\u001b[38;5;124m\"\u001b[39m, \u001b[38;5;124m\"\u001b[39m\u001b[38;5;124mAZURE_OPENAI_ENDPOINT\u001b[39m\u001b[38;5;124m\"\u001b[39m)\n\u001b[1;32m     23\u001b[0m \u001b[38;5;66;03m# Setting the environment variables\u001b[39;00m\n\u001b[0;32m---> 24\u001b[0m \u001b[43mos\u001b[49m\u001b[38;5;241;43m.\u001b[39;49m\u001b[43menviron\u001b[49m\u001b[43m[\u001b[49m\u001b[38;5;124;43m\"\u001b[39;49m\u001b[38;5;124;43mAZURE_API_VERSION\u001b[39;49m\u001b[38;5;124;43m\"\u001b[39;49m\u001b[43m]\u001b[49m \u001b[38;5;241m=\u001b[39m AZURE_API_VERSION\n\u001b[1;32m     25\u001b[0m os\u001b[38;5;241m.\u001b[39menviron[\u001b[38;5;124m\"\u001b[39m\u001b[38;5;124mAZURE_OPENAI_API_KEY\u001b[39m\u001b[38;5;124m\"\u001b[39m] \u001b[38;5;241m=\u001b[39m AZURE_OPENAI_API_KEY\n\u001b[1;32m     26\u001b[0m os\u001b[38;5;241m.\u001b[39menviron[\u001b[38;5;124m\"\u001b[39m\u001b[38;5;124mAZURE_OPENAI_ENDPOINT\u001b[39m\u001b[38;5;124m\"\u001b[39m] \u001b[38;5;241m=\u001b[39m AZURE_OPENAI_ENDPOINT\n",
      "File \u001b[0;32m<frozen os>:684\u001b[0m, in \u001b[0;36m__setitem__\u001b[0;34m(self, key, value)\u001b[0m\n",
      "File \u001b[0;32m<frozen os>:758\u001b[0m, in \u001b[0;36mencode\u001b[0;34m(value)\u001b[0m\n",
      "\u001b[0;31mTypeError\u001b[0m: str expected, not NoneType"
     ]
    }
   ],
   "source": [
    "import os\n",
    "import subprocess\n",
    "import base64\n",
    "!export AZURE_API_VERSION=\"`kubectl get secret azure-creds -n kubeflow-brad -o jsonpath='{.data.AZURE_API_VERSION}' | base64 --decode`\"\n",
    "!export AZURE_OPENAI_API_KEY=\"`kubectl get secret azure-creds -n kubeflow-brad -o jsonpath='{.data.AZURE_OPENAI_API_KEY}' | base64 --decode`\"\n",
    "!export AZURE_OPENAI_ENDPOINT=\"`kubectl get secret azure-creds -n kubeflow-brad -o jsonpath='{.data.AZURE_OPENAI_ENDPOINT}' | base64 --decode`\"\n",
    "def kubectl_get_secret(secret_name, key):\n",
    "    # Executing kubectl command to get the secret and extracting the value of the specified key\n",
    "    command = f\"kubectl get secret {secret_name} -n kubeflow-brad -o jsonpath={{.data.{key}}}\"\n",
    "    result = subprocess.run(command, shell=True, capture_output=True, text=True)\n",
    "\n",
    "    # Checking if the command was successful\n",
    "    if result.returncode == 0:\n",
    "        # Decoding the base64-encoded value and return\n",
    "        decoded_value = base64.b64decode(result.stdout.strip()).decode('utf-8')\n",
    "        return decoded_value\n",
    "\n",
    "# Fetching values from Kubernetes secret and decode\n",
    "AZURE_API_VERSION = kubectl_get_secret(\"azure-creds\", \"AZURE_API_VERSION\")\n",
    "AZURE_OPENAI_API_KEY = kubectl_get_secret(\"azure-creds\", \"AZURE_OPENAI_API_KEY\")\n",
    "AZURE_OPENAI_ENDPOINT = kubectl_get_secret(\"azure-creds\", \"AZURE_OPENAI_ENDPOINT\")\n",
    "\n",
    "# Setting the environment variables\n",
    "os.environ[\"AZURE_API_VERSION\"] = AZURE_API_VERSION\n",
    "os.environ[\"AZURE_OPENAI_API_KEY\"] = AZURE_OPENAI_API_KEY\n",
    "os.environ[\"AZURE_OPENAI_ENDPOINT\"] = AZURE_OPENAI_ENDPOINT"
   ]
  },
  {
   "cell_type": "code",
   "execution_count": null,
   "id": "149d637e-da4b-4161-af85-9dfb17a8fbb3",
   "metadata": {},
   "outputs": [],
   "source": [
    "AZURE_OPENAI_ENDPOINT"
   ]
  },
  {
   "cell_type": "code",
   "execution_count": null,
   "id": "052345cb-962f-449a-b71c-283e7b3ef6a5",
   "metadata": {},
   "outputs": [],
   "source": [
    "from langchain_openai import AzureChatOpenAI\n",
    "llm = AzureChatOpenAI(\n",
    "    openai_api_version=os.getenv(\"AZURE_API_VERSION\"),\n",
    "    azure_deployment=\"gpt-4o\",\n",
    "    temperature=0\n",
    ")"
   ]
  },
  {
   "cell_type": "code",
   "execution_count": null,
   "id": "eaf2a680-6666-43ad-8cb3-fbff35c37c20",
   "metadata": {},
   "outputs": [],
   "source": [
    "from langchain_core.prompts.chat import ChatPromptTemplate\n",
    "#langchain.debug = False\n",
    "\n",
    "chat_template = ChatPromptTemplate.from_messages(\n",
    "    [\n",
    "        (\"system\", \"You are a helpful assistant. Help me with my math homework!\"),\n",
    "        (\"human\", \"{user_input}\" ),\n",
    "    ]\n",
    ")\n",
    "messages = chat_template.format_messages(\n",
    "  user_input=\"Hello! Could you solve 2+2?\"\n",
    ")\n",
    "ai_message = llm.invoke(messages)\n",
    "print(ai_message.content)\n",
    "\n",
    "# response = openai.chat.completions.create(\n",
    "#   model=\"gpt-4o\",\n",
    "#   messages=[\n",
    "#     {\n",
    "#       \"role\": \"user\",\n",
    "#       \"content\": [\n",
    "#         {\"type\": \"text\", \"text\": \"What’s in this image?\"},\n",
    "#         {\n",
    "#           \"type\": \"image_url\",\n",
    "#           \"image_url\": {\n",
    "#             \"url\": \"https://upload.wikimedia.org/wikipedia/commons/thumb/d/dd/Gfp-wisconsin-madison-the-nature-boardwalk.jpg/2560px-Gfp-wisconsin-madison-the-nature-boardwalk.jpg\",\n",
    "#           },\n",
    "#         },\n",
    "#       ],\n",
    "#     }\n",
    "#   ],\n",
    "#   max_tokens=300,\n",
    "# )"
   ]
  },
  {
   "cell_type": "code",
   "execution_count": null,
   "id": "4d1a4a5c-90c8-448b-8476-e6b31d15569a",
   "metadata": {},
   "outputs": [],
   "source": [
    "from IPython.display import Image, display, Audio, Markdown\n",
    "import base64\n",
    "\n",
    "# IMAGE_PATH = \"shared/projects/sample-notebooks/quarterly_reports_project/Grant Kim/stepstone1.png\"\n",
    "IMAGE_PATH = \"page15_image_4.jpg\"\n",
    "\n",
    "# Preview image for context\n",
    "display(Image(IMAGE_PATH))\n",
    "\n",
    "# Open the image file and encode it as a base64 string\n",
    "def encode_image(image_path):\n",
    "    with open(image_path, \"rb\") as image_file:\n",
    "        return base64.b64encode(image_file.read()).decode(\"utf-8\")\n",
    "\n",
    "base64_image = encode_image(IMAGE_PATH)\n",
    "\n",
    "messages=[\n",
    "        {\"role\": \"system\", \"content\": \"You are a Data Analyst.\"},\n",
    "        {\"role\": \"user\", \"content\": [\n",
    "            # {\"type\": \"text\", \"text\": \"Given the following image, if it is a table, please return a tuple, where the first element is 'table' and the second element is the table in html table format, starting and ending with the <table> tags.  If it is a Brand Logo, please return a tuple where the first element is 'title' and the second element is any text that can be extracted from the logo (if there is no text, return whitespace.  If it is neither, return an empty tuple\"},\n",
    "            {\"type\": \"text\", \"text\": \"Given the following image, if it is a table, please return a tuple, where the first element is 'table' and the second element is a paragraph capturing all of the information in the table, in sentence form.  If it is a Brand Logo, please return a tuple where the first element is 'title' and the second element is any text that can be extracted from the logo (if there is no text, return whitespace.  If it is neither, return an empty tuple\"},\n",
    "            {\"type\": \"image_url\", \"image_url\": {\n",
    "                \"url\": f\"data:image/png;base64,{base64_image}\"}\n",
    "            }\n",
    "        ]}\n",
    "    ]\n",
    "ai_message = llm.invoke(messages)\n",
    "print(ai_message.content)"
   ]
  },
  {
   "cell_type": "code",
   "execution_count": null,
   "id": "06356dd4-29f2-469a-801b-e1a203139c54",
   "metadata": {},
   "outputs": [],
   "source": [
    "!pip install ultralyticsplus ultralytics\n",
    "#!pip uninstall -y fitz\n",
    "#!pip install --upgrade --force-reinstall pymupdf\n",
    "#!pip install frontend\n",
    "#!pip install tools\n",
    "#!pip install -U opencv-python-headless\n",
    "#!pip install opencv-python\n",
    "#!pip install sahi\n",
    "#!pip install -U ultralytics"
   ]
  },
  {
   "cell_type": "code",
   "execution_count": null,
   "id": "1b1e2f48-908c-48f0-b2a7-15c9459a7e3c",
   "metadata": {},
   "outputs": [],
   "source": [
    "#cat /opt/conda/lib/python3.11/site-packages/sahi/utils/cv.py "
   ]
  },
  {
   "cell_type": "code",
   "execution_count": null,
   "id": "df71846d-b1d7-476c-894c-eeaf4618b6f7",
   "metadata": {},
   "outputs": [],
   "source": [
    "#import fitz\n",
    "import pymupdf as fitz\n",
    "import pymupdf\n",
    "import sys\n",
    "import os\n",
    "import glob\n",
    "\n",
    "# pdf_path: the folder of all the PDF files\n",
    "# saved_path: the path of the saved page images\n",
    "def convert_pdf_to_image(pdf_path, pdf_file, saved_path):\n",
    "    \n",
    "    if not os.path.exists(saved_path):\n",
    "        os.mkdir(saved_path)\n",
    "    else:\n",
    "        files = glob.glob(saved_path+'/*')\n",
    "        print(files)\n",
    "        for f in files:\n",
    "            os.remove(f)\n",
    "\n",
    "    try:\n",
    "        print(\"got here 1\")\n",
    "        print(pdf_path + \"/\" + pdf_file)\n",
    "        fitz.TOOLS.mupdf_warnings()  # empty the problem message container\n",
    "        doc = fitz.open(pdf_path + \"/\" + pdf_file)\n",
    "        print(\"one: \"+doc)\n",
    "        warnings = fitz.TOOLS.mupdf_warnings()\n",
    "        if warnings:\n",
    "            print(warnings)\n",
    "            raise RuntimeError()\n",
    "\n",
    "        for page in doc:  # iterate through the pages\n",
    "            pix = page.get_pixmap()  # render page to an image\n",
    "            pix.save(saved_path + \"/\" + f\"{pdf_file[:-4]}-{page.number}.png\")  # store image as a PNG\n",
    "        return \n",
    "\n",
    "    except:\n",
    "        print(\"error when opening the pdf file {}\".format(pdf_file))\n",
    "        return None"
   ]
  },
  {
   "cell_type": "code",
   "execution_count": null,
   "id": "4ddee49f-c1ec-4b04-a05c-c36c34c52f44",
   "metadata": {},
   "outputs": [],
   "source": [
    "for page in doc:  # iterate through the pages\n",
    "    pix = page.get_pixmap()  # render page to an image\n",
    "    pix.save(\"/home/jovyan/shared/projects/sample-notebooks/quarterly_reports_project/Grant Kim/static/images/\" + f\"{'FloridaSample.pdf'[:-4]}-{page.number}.png\")  # store image as a PNG\n"
   ]
  },
  {
   "cell_type": "code",
   "execution_count": null,
   "id": "731f3fd4-d191-43f4-972c-bfb856ffa82f",
   "metadata": {},
   "outputs": [],
   "source": [
    "notebook_path = \"/home/jovyan/shared/projects/sample-notebooks/quarterly_reports_project/Grant Kim/\"\n",
    "data_path = notebook_path+\"static/pdfs\"\n",
    "converted_path = notebook_path+\"static/images\"\n",
    "dir = os.listdir(data_path)\n",
    "print(dir)\n",
    "for file in dir:\n",
    "   pdf_name = file\n",
    "   convert_pdf_to_image(data_path, pdf_name, converted_path)"
   ]
  },
  {
   "cell_type": "code",
   "execution_count": null,
   "id": "006f128d-33ef-4745-b2f3-d6d47cec7efa",
   "metadata": {},
   "outputs": [],
   "source": [
    "dir = os.listdir(data_path)\n",
    "print(dir)\n",
    "for file in dir:\n",
    "   pdf_name = file\n",
    "   convert_pdf_to_image(data_path, pdf_name, converted_path)\n",
    "\n"
   ]
  },
  {
   "cell_type": "code",
   "execution_count": null,
   "id": "36aba0f3-8cc5-4050-88f2-e810fdfbe006",
   "metadata": {},
   "outputs": [],
   "source": [
    "from ultralyticsplus import YOLO, render_result\n",
    "\n",
    "# load model\n",
    "model = YOLO('keremberke/yolov8m-table-extraction')\n",
    "\n",
    "# set model parameters\n",
    "model.overrides['conf'] = 0.25  # NMS confidence threshold\n",
    "model.overrides['iou'] = 0.45  # NMS IoU threshold\n",
    "model.overrides['agnostic_nms'] = False  # NMS class-agnostic\n",
    "model.overrides['max_det'] = 10  # maximum number of detections per image\n",
    "\n",
    "# set image\n",
    "image = '/home/jovyan/shared/projects/sample-notebooks/quarterly_reports_project/Grant Kim/static/images/FloridaSample-1.png'\n",
    "\n",
    "# perform inference\n",
    "results = model.predict(image)\n",
    "\n",
    "# observe results\n",
    "print(results[0].boxes)\n",
    "render = render_result(model=model, image=image, result=results[0])\n",
    "render.show()\n"
   ]
  },
  {
   "cell_type": "code",
   "execution_count": null,
   "id": "f0728f2c-bba5-429c-ba3b-42d66fb57d0f",
   "metadata": {},
   "outputs": [],
   "source": [
    "#!apt-get install -y libgl1-mesa-glx"
   ]
  },
  {
   "cell_type": "code",
   "execution_count": null,
   "id": "464d3386-1d15-4928-aaaf-2e7fe73f8b55",
   "metadata": {},
   "outputs": [],
   "source": [
    "import cv2\n",
    "\n",
    "image = cv2.imread('/home/jovyan/shared/projects/sample-notebooks/quarterly_reports_project/Grant Kim/static/images/FloridaSample-1.png')\n",
    "copy = image.copy()\n",
    "\n",
    "# ROI = image[y:y+h, x:x+w]\n",
    "# xywh: tensor([[395.3298, 377.0665, 645.2010, 376.8942],\n",
    "#         [399.3792,  94.9245, 649.2988,  55.3959]], device='cuda:0')\n",
    "# xyxy: tensor([[ 72.7293, 188.6194, 717.9304, 565.5136],\n",
    "#         [ 74.7298,  67.2265, 724.0286, 122.6224]], device='cuda:0')\n",
    "\n",
    "# ROI = image[377:377+377, 395:395+646]\n",
    "ROI = image[189:566, 72:718]\n",
    "#ROI = image[67:122,74:724]\n",
    "cv2.imwrite(converted_path+'/cut.png', ROI)\n",
    "# cv2.rectangle(copy,(x,y),(x+w,y+h),(36,255,12),2)\n",
    "\n",
    "# cv2.imshow('thresh', thresh)\n",
    "# cv2.imshow('copy', copy)\n",
    "cv2.waitKey()"
   ]
  },
  {
   "cell_type": "code",
   "execution_count": null,
   "id": "14c6b074-256d-4e86-b405-e266b57eeb09",
   "metadata": {},
   "outputs": [],
   "source": []
  }
 ],
 "metadata": {
  "kernelspec": {
   "display_name": "Python 3 (ipykernel)",
   "language": "python",
   "name": "python3"
  },
  "language_info": {
   "codemirror_mode": {
    "name": "ipython",
    "version": 3
   },
   "file_extension": ".py",
   "mimetype": "text/x-python",
   "name": "python",
   "nbconvert_exporter": "python",
   "pygments_lexer": "ipython3",
   "version": "3.11.6"
  }
 },
 "nbformat": 4,
 "nbformat_minor": 5
}
